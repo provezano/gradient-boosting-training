{
 "cells": [
  {
   "cell_type": "markdown",
   "id": "42b9442a",
   "metadata": {},
   "source": [
    "### Libraries"
   ]
  },
  {
   "cell_type": "code",
   "execution_count": 1,
   "id": "2fafa267",
   "metadata": {},
   "outputs": [],
   "source": [
    "import numpy as np\n",
    "import pandas as pd\n",
    "from xgboost import XGBClassifier\n",
    "from sklearn.metrics import accuracy_score\n",
    "from sklearn.model_selection import cross_val_score\n",
    "from sklearn.model_selection import StratifiedKFold\n",
    "from sklearn.model_selection import train_test_split\n",
    "from sklearn.model_selection import GridSearchCV, RandomizedSearchCV"
   ]
  },
  {
   "cell_type": "markdown",
   "id": "7a6bb9ea",
   "metadata": {},
   "source": [
    "### Data ingestion"
   ]
  },
  {
   "cell_type": "code",
   "execution_count": 2,
   "id": "5f2b21b2",
   "metadata": {},
   "outputs": [],
   "source": [
    "df_raw = pd.read_csv('https://github.com/PacktPublishing/Hands-On-Gradient-Boosting-with-XGBoost-and-Scikit-learn/raw/master/Chapter06/heart_disease.csv') "
   ]
  },
  {
   "cell_type": "markdown",
   "id": "a8979076",
   "metadata": {},
   "source": [
    "### Data description"
   ]
  },
  {
   "cell_type": "code",
   "execution_count": 3,
   "id": "ddfaf737",
   "metadata": {},
   "outputs": [
    {
     "data": {
      "text/html": [
       "<div>\n",
       "<style scoped>\n",
       "    .dataframe tbody tr th:only-of-type {\n",
       "        vertical-align: middle;\n",
       "    }\n",
       "\n",
       "    .dataframe tbody tr th {\n",
       "        vertical-align: top;\n",
       "    }\n",
       "\n",
       "    .dataframe thead th {\n",
       "        text-align: right;\n",
       "    }\n",
       "</style>\n",
       "<table border=\"1\" class=\"dataframe\">\n",
       "  <thead>\n",
       "    <tr style=\"text-align: right;\">\n",
       "      <th></th>\n",
       "      <th>age</th>\n",
       "      <th>sex</th>\n",
       "      <th>cp</th>\n",
       "      <th>trestbps</th>\n",
       "      <th>chol</th>\n",
       "      <th>fbs</th>\n",
       "      <th>restecg</th>\n",
       "      <th>thalach</th>\n",
       "      <th>exang</th>\n",
       "      <th>oldpeak</th>\n",
       "      <th>slope</th>\n",
       "      <th>ca</th>\n",
       "      <th>thal</th>\n",
       "      <th>target</th>\n",
       "    </tr>\n",
       "  </thead>\n",
       "  <tbody>\n",
       "    <tr>\n",
       "      <th>0</th>\n",
       "      <td>63</td>\n",
       "      <td>1</td>\n",
       "      <td>3</td>\n",
       "      <td>145</td>\n",
       "      <td>233</td>\n",
       "      <td>1</td>\n",
       "      <td>0</td>\n",
       "      <td>150</td>\n",
       "      <td>0</td>\n",
       "      <td>2.3</td>\n",
       "      <td>0</td>\n",
       "      <td>0</td>\n",
       "      <td>1</td>\n",
       "      <td>1</td>\n",
       "    </tr>\n",
       "    <tr>\n",
       "      <th>1</th>\n",
       "      <td>37</td>\n",
       "      <td>1</td>\n",
       "      <td>2</td>\n",
       "      <td>130</td>\n",
       "      <td>250</td>\n",
       "      <td>0</td>\n",
       "      <td>1</td>\n",
       "      <td>187</td>\n",
       "      <td>0</td>\n",
       "      <td>3.5</td>\n",
       "      <td>0</td>\n",
       "      <td>0</td>\n",
       "      <td>2</td>\n",
       "      <td>1</td>\n",
       "    </tr>\n",
       "    <tr>\n",
       "      <th>2</th>\n",
       "      <td>41</td>\n",
       "      <td>0</td>\n",
       "      <td>1</td>\n",
       "      <td>130</td>\n",
       "      <td>204</td>\n",
       "      <td>0</td>\n",
       "      <td>0</td>\n",
       "      <td>172</td>\n",
       "      <td>0</td>\n",
       "      <td>1.4</td>\n",
       "      <td>2</td>\n",
       "      <td>0</td>\n",
       "      <td>2</td>\n",
       "      <td>1</td>\n",
       "    </tr>\n",
       "    <tr>\n",
       "      <th>3</th>\n",
       "      <td>56</td>\n",
       "      <td>1</td>\n",
       "      <td>1</td>\n",
       "      <td>120</td>\n",
       "      <td>236</td>\n",
       "      <td>0</td>\n",
       "      <td>1</td>\n",
       "      <td>178</td>\n",
       "      <td>0</td>\n",
       "      <td>0.8</td>\n",
       "      <td>2</td>\n",
       "      <td>0</td>\n",
       "      <td>2</td>\n",
       "      <td>1</td>\n",
       "    </tr>\n",
       "    <tr>\n",
       "      <th>4</th>\n",
       "      <td>57</td>\n",
       "      <td>0</td>\n",
       "      <td>0</td>\n",
       "      <td>120</td>\n",
       "      <td>354</td>\n",
       "      <td>0</td>\n",
       "      <td>1</td>\n",
       "      <td>163</td>\n",
       "      <td>1</td>\n",
       "      <td>0.6</td>\n",
       "      <td>2</td>\n",
       "      <td>0</td>\n",
       "      <td>2</td>\n",
       "      <td>1</td>\n",
       "    </tr>\n",
       "  </tbody>\n",
       "</table>\n",
       "</div>"
      ],
      "text/plain": [
       "   age  sex  cp  trestbps  chol  fbs  restecg  thalach  exang  oldpeak  slope  \\\n",
       "0   63    1   3       145   233    1        0      150      0      2.3      0   \n",
       "1   37    1   2       130   250    0        1      187      0      3.5      0   \n",
       "2   41    0   1       130   204    0        0      172      0      1.4      2   \n",
       "3   56    1   1       120   236    0        1      178      0      0.8      2   \n",
       "4   57    0   0       120   354    0        1      163      1      0.6      2   \n",
       "\n",
       "   ca  thal  target  \n",
       "0   0     1       1  \n",
       "1   0     2       1  \n",
       "2   0     2       1  \n",
       "3   0     2       1  \n",
       "4   0     2       1  "
      ]
     },
     "execution_count": 3,
     "metadata": {},
     "output_type": "execute_result"
    }
   ],
   "source": [
    "df_raw.head()"
   ]
  },
  {
   "cell_type": "code",
   "execution_count": 4,
   "id": "340948dd",
   "metadata": {},
   "outputs": [
    {
     "data": {
      "text/plain": [
       "(303, 14)"
      ]
     },
     "execution_count": 4,
     "metadata": {},
     "output_type": "execute_result"
    }
   ],
   "source": [
    "df_raw.shape"
   ]
  },
  {
   "cell_type": "code",
   "execution_count": 5,
   "id": "3cc6eaac",
   "metadata": {},
   "outputs": [
    {
     "name": "stdout",
     "output_type": "stream",
     "text": [
      "<class 'pandas.core.frame.DataFrame'>\n",
      "RangeIndex: 303 entries, 0 to 302\n",
      "Data columns (total 14 columns):\n",
      " #   Column    Non-Null Count  Dtype  \n",
      "---  ------    --------------  -----  \n",
      " 0   age       303 non-null    int64  \n",
      " 1   sex       303 non-null    int64  \n",
      " 2   cp        303 non-null    int64  \n",
      " 3   trestbps  303 non-null    int64  \n",
      " 4   chol      303 non-null    int64  \n",
      " 5   fbs       303 non-null    int64  \n",
      " 6   restecg   303 non-null    int64  \n",
      " 7   thalach   303 non-null    int64  \n",
      " 8   exang     303 non-null    int64  \n",
      " 9   oldpeak   303 non-null    float64\n",
      " 10  slope     303 non-null    int64  \n",
      " 11  ca        303 non-null    int64  \n",
      " 12  thal      303 non-null    int64  \n",
      " 13  target    303 non-null    int64  \n",
      "dtypes: float64(1), int64(13)\n",
      "memory usage: 33.3 KB\n"
     ]
    }
   ],
   "source": [
    "df_raw.info()"
   ]
  },
  {
   "cell_type": "markdown",
   "id": "1d309683",
   "metadata": {},
   "source": [
    "### Train-class-data-split"
   ]
  },
  {
   "cell_type": "code",
   "execution_count": 6,
   "id": "03874c3d",
   "metadata": {},
   "outputs": [],
   "source": [
    "X = df_raw.iloc[:, :-1]\n",
    "y = df_raw.iloc[:, -1]"
   ]
  },
  {
   "cell_type": "markdown",
   "id": "95b03985",
   "metadata": {},
   "source": [
    "### Model training"
   ]
  },
  {
   "cell_type": "code",
   "execution_count": 7,
   "id": "c0550328",
   "metadata": {},
   "outputs": [],
   "source": [
    "model = XGBClassifier(booster='gbtree',\n",
    "                      objective='binary:logistic',\n",
    "                      random_state=2)"
   ]
  },
  {
   "cell_type": "code",
   "execution_count": 8,
   "id": "fb744de5",
   "metadata": {},
   "outputs": [
    {
     "name": "stdout",
     "output_type": "stream",
     "text": [
      "Accuracy: [0.84 0.85 0.82 0.8  0.77]\n",
      "Accuracy mean: 0.8150\n"
     ]
    }
   ],
   "source": [
    "scores = cross_val_score(model, X, y, cv=5)\n",
    "print('Accuracy: {}'.format(np.round(scores, 2)))\n",
    "print('Accuracy mean: {:.4f}'.format(np.round(np.mean(scores), 4)))"
   ]
  },
  {
   "cell_type": "markdown",
   "id": "41ef84f0",
   "metadata": {},
   "source": [
    "### Stratified $k$-fold"
   ]
  },
  {
   "cell_type": "code",
   "execution_count": 9,
   "id": "2ee7e496",
   "metadata": {},
   "outputs": [],
   "source": [
    "kfold = StratifiedKFold(n_splits=5, shuffle=True, random_state=2)"
   ]
  },
  {
   "cell_type": "code",
   "execution_count": 10,
   "id": "271fc935",
   "metadata": {},
   "outputs": [
    {
     "name": "stdout",
     "output_type": "stream",
     "text": [
      "Accuracy: [0.72 0.82 0.75 0.8  0.82]\n",
      "Accuracy mean: 0.7823\n"
     ]
    }
   ],
   "source": [
    "scores = cross_val_score(model, X, y, cv=kfold)\n",
    "print('Accuracy: {}'.format(np.round(scores, 2)))\n",
    "print('Accuracy mean: {:.4f}'.format(np.round(np.mean(scores), 4)))"
   ]
  },
  {
   "cell_type": "markdown",
   "id": "a139351f",
   "metadata": {},
   "source": [
    "### Hyperparameter tuning"
   ]
  },
  {
   "cell_type": "code",
   "execution_count": 43,
   "id": "ff589d5f",
   "metadata": {},
   "outputs": [],
   "source": [
    "def grid_search(params, random=False):\n",
    "    xgb = XGBClassifier(booster='gbtree',\n",
    "                        objective='binary:logistic',\n",
    "                        random_state=2)\n",
    "    \n",
    "    if random:\n",
    "        grid = RandomizedSearchCV(xgb, params, cv=kfold, n_iter=1000, n_jobs=-1)\n",
    "    else:\n",
    "        grid = GridSearchCV(xgb, params, cv=kfold, n_jobs=-1)\n",
    "    \n",
    "    grid.fit(X, y)\n",
    "    best_params = grid.best_params_\n",
    "    print(\"Best params:\", best_params)\n",
    "    \n",
    "    best_score = grid.best_score_\n",
    "    print(\"Training score: {:.4f}\".format(best_score))"
   ]
  },
  {
   "cell_type": "markdown",
   "id": "c485c118",
   "metadata": {},
   "source": [
    "##### n_estimators"
   ]
  },
  {
   "cell_type": "markdown",
   "id": "268c0d02",
   "metadata": {},
   "source": [
    "number of trees in the ensemble"
   ]
  },
  {
   "cell_type": "code",
   "execution_count": 14,
   "id": "deb3a38f",
   "metadata": {},
   "outputs": [
    {
     "name": "stdout",
     "output_type": "stream",
     "text": [
      "Best params: {'n_estimators': 100}\n",
      "Training score: 0.7823\n"
     ]
    }
   ],
   "source": [
    "grid_search(params={'n_estimators':[100, 200, 400, 800]})"
   ]
  },
  {
   "cell_type": "markdown",
   "id": "a911291f",
   "metadata": {},
   "source": [
    "as our dataset is small, it didn't produce better results."
   ]
  },
  {
   "cell_type": "markdown",
   "id": "c0954e1f",
   "metadata": {},
   "source": [
    "#### learning_rate"
   ]
  },
  {
   "cell_type": "markdown",
   "id": "8bb9eb99",
   "metadata": {},
   "source": [
    "shrinks the weights of trees for each round of boosting.\n",
    "lower learning_rate => prevents overfitting but requires more trees."
   ]
  },
  {
   "cell_type": "code",
   "execution_count": 15,
   "id": "e496261d",
   "metadata": {},
   "outputs": [
    {
     "name": "stdout",
     "output_type": "stream",
     "text": [
      "Best params: {'learning_rate': 0.05}\n",
      "Training score: 0.7958\n"
     ]
    }
   ],
   "source": [
    "grid_search(params={'learning_rate':[0.01, 0.05, 0.1, 0.2, 0.3, 0.4, 0.5]})"
   ]
  },
  {
   "cell_type": "markdown",
   "id": "49da9b57",
   "metadata": {},
   "source": [
    "slight better than base line"
   ]
  },
  {
   "cell_type": "markdown",
   "id": "36b9269b",
   "metadata": {},
   "source": [
    "#### max_depth"
   ]
  },
  {
   "cell_type": "markdown",
   "id": "73b0584f",
   "metadata": {},
   "source": [
    "the length of the tree (number of rounds of splitting). limiting max_depth prevents overfitting."
   ]
  },
  {
   "cell_type": "code",
   "execution_count": 16,
   "id": "9a1087ff",
   "metadata": {},
   "outputs": [
    {
     "name": "stdout",
     "output_type": "stream",
     "text": [
      "Best params: {'max_depth': 2}\n",
      "Training score: 0.7990\n"
     ]
    }
   ],
   "source": [
    "grid_search(params={'max_depth':[2, 3, 5, 6, 8]})"
   ]
  },
  {
   "cell_type": "markdown",
   "id": "f7419e81",
   "metadata": {},
   "source": [
    "slight better than base line"
   ]
  },
  {
   "cell_type": "markdown",
   "id": "cf305c74",
   "metadata": {},
   "source": [
    "#### gamma"
   ]
  },
  {
   "cell_type": "markdown",
   "id": "256e7c64",
   "metadata": {},
   "source": [
    "(lagrange multiplier) provides a threshold that nodes must surpass before making splits according to the loss function. Default is 0, anything over 10 is very high. "
   ]
  },
  {
   "cell_type": "code",
   "execution_count": 17,
   "id": "d7e8c2f3",
   "metadata": {},
   "outputs": [
    {
     "name": "stdout",
     "output_type": "stream",
     "text": [
      "Best params: {'gamma': 0.5}\n",
      "Training score: 0.7957\n"
     ]
    }
   ],
   "source": [
    "grid_search(params={'gamma':[0, 0.1, 0.5, 1, 2, 5]})"
   ]
  },
  {
   "cell_type": "markdown",
   "id": "d430a9bd",
   "metadata": {},
   "source": [
    "slight better than base line"
   ]
  },
  {
   "cell_type": "markdown",
   "id": "58434afa",
   "metadata": {},
   "source": [
    "#### min_child_weight"
   ]
  },
  {
   "cell_type": "markdown",
   "id": "ad7eb20c",
   "metadata": {},
   "source": [
    "min sum of weights required for a node to split. higher values => reduce overfitting."
   ]
  },
  {
   "cell_type": "code",
   "execution_count": 18,
   "id": "ed80e1e5",
   "metadata": {},
   "outputs": [
    {
     "name": "stdout",
     "output_type": "stream",
     "text": [
      "Best params: {'min_child_weight': 5}\n",
      "Training score: 0.8122\n"
     ]
    }
   ],
   "source": [
    "grid_search(params={'min_child_weight':[1, 2, 3, 4, 5]})"
   ]
  },
  {
   "cell_type": "markdown",
   "id": "d5496573",
   "metadata": {},
   "source": [
    "The best result so far."
   ]
  },
  {
   "cell_type": "markdown",
   "id": "f798362d",
   "metadata": {},
   "source": [
    "#### subsample"
   ]
  },
  {
   "cell_type": "markdown",
   "id": "195c970b",
   "metadata": {},
   "source": [
    "limits the perentage of training instances for each boosting round. lower values of subsample reduces overfitting."
   ]
  },
  {
   "cell_type": "code",
   "execution_count": 19,
   "id": "5539e860",
   "metadata": {},
   "outputs": [
    {
     "name": "stdout",
     "output_type": "stream",
     "text": [
      "Best params: {'subsample': 0.8}\n",
      "Training score: 0.7958\n"
     ]
    }
   ],
   "source": [
    "grid_search(params={'subsample':[0.5, 0.7, 0.8, 0.9, 1]})"
   ]
  },
  {
   "cell_type": "markdown",
   "id": "37d7f803",
   "metadata": {},
   "source": [
    "slight better than base line"
   ]
  },
  {
   "cell_type": "markdown",
   "id": "b9f0f6a3",
   "metadata": {},
   "source": [
    "#### colsample_bytree"
   ]
  },
  {
   "cell_type": "markdown",
   "id": "276aa33f",
   "metadata": {},
   "source": [
    "colsample_bytree randomly selects particular\n",
    "columns according to the given percentage."
   ]
  },
  {
   "cell_type": "code",
   "execution_count": 20,
   "id": "63750cca",
   "metadata": {},
   "outputs": [
    {
     "name": "stdout",
     "output_type": "stream",
     "text": [
      "Best params: {'colsample_bytree': 0.9}\n",
      "Training score: 0.7989\n"
     ]
    }
   ],
   "source": [
    "grid_search(params={'colsample_bytree':[0.5, 0.7, 0.8, 0.9, 1]})"
   ]
  },
  {
   "cell_type": "code",
   "execution_count": 21,
   "id": "b9991f9e",
   "metadata": {},
   "outputs": [
    {
     "name": "stdout",
     "output_type": "stream",
     "text": [
      "Best params: {'colsample_bylevel': 0.8}\n",
      "Training score: 0.8022\n"
     ]
    }
   ],
   "source": [
    "grid_search(params={'colsample_bylevel':[0.5, 0.7, 0.8, 0.9, 1]})"
   ]
  },
  {
   "cell_type": "code",
   "execution_count": 22,
   "id": "6acfe3e3",
   "metadata": {},
   "outputs": [
    {
     "name": "stdout",
     "output_type": "stream",
     "text": [
      "Best params: {'colsample_bynode': 0.8}\n",
      "Training score: 0.8022\n"
     ]
    }
   ],
   "source": [
    "grid_search(params={'colsample_bynode':[0.5, 0.7, 0.8, 0.9, 1]})"
   ]
  },
  {
   "cell_type": "markdown",
   "id": "d8094d67",
   "metadata": {},
   "source": [
    "slight better than base line"
   ]
  },
  {
   "cell_type": "markdown",
   "id": "1fe098c3",
   "metadata": {},
   "source": [
    "#### Random-search"
   ]
  },
  {
   "cell_type": "code",
   "execution_count": 51,
   "id": "e058c2c3",
   "metadata": {},
   "outputs": [
    {
     "name": "stdout",
     "output_type": "stream",
     "text": [
      "Best params: {'subsample': 0.5, 'n_estimators': 100, 'min_child_weight': 2, 'max_depth': 3, 'learning_rate': 0.01, 'gamma': 2, 'colsample_bytree': 0.5, 'colsample_bynode': 0.6, 'colsample_bylevel': 0.5}\n",
      "Training score: 0.8484\n"
     ]
    }
   ],
   "source": [
    "grid_search(params={\n",
    "                   'n_estimators':[2, 50, 100],\n",
    "                   'learning_rate':[0.01, 0.05, 0.1, 0.2, 0.3, 0.4, 0.5],\n",
    "                   'max_depth':[2, 3, 5, 6, 8],\n",
    "                   'gamma':[0, 0.1, 0.5, 1, 2, 5],\n",
    "                   'min_child_weight':[1, 2, 3, 4, 5],\n",
    "                   'subsample':[0.5, 0.7, 0.8, 0.9, 1],\n",
    "                   'colsample_bytree':[0.5, 0.7, 0.8, 0.9, 1],\n",
    "                   'colsample_bylevel':[0.5, 0.7, 0.8, 0.9, 1],\n",
    "                   'colsample_bynode':[0.5, 0.6, 0.7, 0.8, 0.9, 1]},\n",
    "            random=True)"
   ]
  },
  {
   "cell_type": "markdown",
   "id": "3b6cf2ee",
   "metadata": {},
   "source": [
    "### Early stopping"
   ]
  },
  {
   "cell_type": "markdown",
   "id": "73bfb430",
   "metadata": {},
   "source": [
    "A general method to limit the number of training rounds in iterative machine learning algorithms. Early stopping allows training to continue until $n$ consecutive rounds fail to produce gains."
   ]
  },
  {
   "cell_type": "code",
   "execution_count": 24,
   "id": "14bf8e57",
   "metadata": {},
   "outputs": [],
   "source": [
    "X_train, X_test, y_train, y_test = train_test_split(X, y, random_state=2)"
   ]
  },
  {
   "cell_type": "code",
   "execution_count": 25,
   "id": "fdc52b54",
   "metadata": {},
   "outputs": [],
   "source": [
    "model = XGBClassifier(booster='gbtree',\n",
    "                      objective='binary:logistic',\n",
    "                      random_state=2)"
   ]
  },
  {
   "cell_type": "markdown",
   "id": "75e76a50",
   "metadata": {},
   "source": [
    "#### eval_set"
   ]
  },
  {
   "cell_type": "code",
   "execution_count": 26,
   "id": "1302ee65",
   "metadata": {},
   "outputs": [],
   "source": [
    "eval_set = [(X_test, y_test)]"
   ]
  },
  {
   "cell_type": "code",
   "execution_count": 27,
   "id": "71a3ee66",
   "metadata": {},
   "outputs": [],
   "source": [
    "eval_metric = 'error'"
   ]
  },
  {
   "cell_type": "code",
   "execution_count": 28,
   "id": "c1362144",
   "metadata": {
    "scrolled": true
   },
   "outputs": [
    {
     "name": "stdout",
     "output_type": "stream",
     "text": [
      "[0]\tvalidation_0-error:0.15789\n",
      "[1]\tvalidation_0-error:0.10526\n",
      "[2]\tvalidation_0-error:0.11842\n",
      "[3]\tvalidation_0-error:0.13158\n",
      "[4]\tvalidation_0-error:0.11842\n",
      "[5]\tvalidation_0-error:0.14474\n",
      "[6]\tvalidation_0-error:0.14474\n",
      "[7]\tvalidation_0-error:0.14474\n",
      "[8]\tvalidation_0-error:0.14474\n",
      "[9]\tvalidation_0-error:0.14474\n",
      "[10]\tvalidation_0-error:0.14474\n",
      "[11]\tvalidation_0-error:0.15789\n",
      "[12]\tvalidation_0-error:0.15789\n",
      "[13]\tvalidation_0-error:0.17105\n",
      "[14]\tvalidation_0-error:0.17105\n",
      "[15]\tvalidation_0-error:0.17105\n",
      "[16]\tvalidation_0-error:0.15789\n",
      "[17]\tvalidation_0-error:0.17105\n",
      "[18]\tvalidation_0-error:0.15789\n",
      "[19]\tvalidation_0-error:0.17105\n",
      "[20]\tvalidation_0-error:0.17105\n",
      "[21]\tvalidation_0-error:0.17105\n",
      "[22]\tvalidation_0-error:0.18421\n",
      "[23]\tvalidation_0-error:0.18421\n",
      "[24]\tvalidation_0-error:0.17105\n",
      "[25]\tvalidation_0-error:0.18421\n",
      "[26]\tvalidation_0-error:0.18421\n",
      "[27]\tvalidation_0-error:0.18421\n",
      "[28]\tvalidation_0-error:0.18421\n",
      "[29]\tvalidation_0-error:0.18421\n",
      "[30]\tvalidation_0-error:0.18421\n",
      "[31]\tvalidation_0-error:0.18421\n",
      "[32]\tvalidation_0-error:0.18421\n",
      "[33]\tvalidation_0-error:0.18421\n",
      "[34]\tvalidation_0-error:0.18421\n",
      "[35]\tvalidation_0-error:0.18421\n",
      "[36]\tvalidation_0-error:0.18421\n",
      "[37]\tvalidation_0-error:0.18421\n",
      "[38]\tvalidation_0-error:0.18421\n",
      "[39]\tvalidation_0-error:0.18421\n",
      "[40]\tvalidation_0-error:0.18421\n",
      "[41]\tvalidation_0-error:0.18421\n",
      "[42]\tvalidation_0-error:0.18421\n",
      "[43]\tvalidation_0-error:0.17105\n",
      "[44]\tvalidation_0-error:0.18421\n",
      "[45]\tvalidation_0-error:0.17105\n",
      "[46]\tvalidation_0-error:0.18421\n",
      "[47]\tvalidation_0-error:0.18421\n",
      "[48]\tvalidation_0-error:0.17105\n",
      "[49]\tvalidation_0-error:0.15789\n",
      "[50]\tvalidation_0-error:0.17105\n",
      "[51]\tvalidation_0-error:0.17105\n",
      "[52]\tvalidation_0-error:0.15789\n",
      "[53]\tvalidation_0-error:0.17105\n",
      "[54]\tvalidation_0-error:0.17105\n",
      "[55]\tvalidation_0-error:0.17105\n",
      "[56]\tvalidation_0-error:0.17105\n",
      "[57]\tvalidation_0-error:0.17105\n",
      "[58]\tvalidation_0-error:0.17105\n",
      "[59]\tvalidation_0-error:0.17105\n",
      "[60]\tvalidation_0-error:0.17105\n",
      "[61]\tvalidation_0-error:0.17105\n",
      "[62]\tvalidation_0-error:0.17105\n",
      "[63]\tvalidation_0-error:0.17105\n",
      "[64]\tvalidation_0-error:0.17105\n",
      "[65]\tvalidation_0-error:0.17105\n",
      "[66]\tvalidation_0-error:0.18421\n",
      "[67]\tvalidation_0-error:0.18421\n",
      "[68]\tvalidation_0-error:0.18421\n",
      "[69]\tvalidation_0-error:0.18421\n",
      "[70]\tvalidation_0-error:0.18421\n",
      "[71]\tvalidation_0-error:0.18421\n",
      "[72]\tvalidation_0-error:0.18421\n",
      "[73]\tvalidation_0-error:0.18421\n",
      "[74]\tvalidation_0-error:0.17105\n",
      "[75]\tvalidation_0-error:0.18421\n",
      "[76]\tvalidation_0-error:0.17105\n",
      "[77]\tvalidation_0-error:0.18421\n",
      "[78]\tvalidation_0-error:0.15789\n",
      "[79]\tvalidation_0-error:0.17105\n",
      "[80]\tvalidation_0-error:0.15789\n",
      "[81]\tvalidation_0-error:0.15789\n",
      "[82]\tvalidation_0-error:0.15789\n",
      "[83]\tvalidation_0-error:0.15789\n",
      "[84]\tvalidation_0-error:0.15789\n",
      "[85]\tvalidation_0-error:0.15789\n",
      "[86]\tvalidation_0-error:0.15789\n",
      "[87]\tvalidation_0-error:0.15789\n",
      "[88]\tvalidation_0-error:0.15789\n",
      "[89]\tvalidation_0-error:0.15789\n",
      "[90]\tvalidation_0-error:0.15789\n",
      "[91]\tvalidation_0-error:0.15789\n",
      "[92]\tvalidation_0-error:0.15789\n",
      "[93]\tvalidation_0-error:0.17105\n",
      "[94]\tvalidation_0-error:0.17105\n",
      "[95]\tvalidation_0-error:0.17105\n",
      "[96]\tvalidation_0-error:0.17105\n",
      "[97]\tvalidation_0-error:0.17105\n",
      "[98]\tvalidation_0-error:0.17105\n",
      "[99]\tvalidation_0-error:0.17105\n"
     ]
    },
    {
     "name": "stderr",
     "output_type": "stream",
     "text": [
      "C:\\Users\\prove\\miniconda3\\envs\\ds\\lib\\site-packages\\xgboost\\sklearn.py:793: UserWarning: `eval_metric` in `fit` method is deprecated for better compatibility with scikit-learn, use `eval_metric` in constructor or`set_params` instead.\n",
      "  warnings.warn(\n"
     ]
    },
    {
     "data": {
      "text/plain": [
       "XGBClassifier(base_score=0.5, booster='gbtree', callbacks=None,\n",
       "              colsample_bylevel=1, colsample_bynode=1, colsample_bytree=1,\n",
       "              early_stopping_rounds=None, enable_categorical=False,\n",
       "              eval_metric=None, gamma=0, gpu_id=-1, grow_policy='depthwise',\n",
       "              importance_type=None, interaction_constraints='',\n",
       "              learning_rate=0.300000012, max_bin=256, max_cat_to_onehot=4,\n",
       "              max_delta_step=0, max_depth=6, max_leaves=0, min_child_weight=1,\n",
       "              missing=nan, monotone_constraints='()', n_estimators=100,\n",
       "              n_jobs=0, num_parallel_tree=1, predictor='auto', random_state=2,\n",
       "              reg_alpha=0, reg_lambda=1, ...)"
      ]
     },
     "execution_count": 28,
     "metadata": {},
     "output_type": "execute_result"
    }
   ],
   "source": [
    "model.fit(X_train, y_train, eval_metric=eval_metric, eval_set=eval_set)"
   ]
  },
  {
   "cell_type": "code",
   "execution_count": 29,
   "id": "fbafc0d9",
   "metadata": {},
   "outputs": [
    {
     "name": "stdout",
     "output_type": "stream",
     "text": [
      "Accuracy: 82.89%\n"
     ]
    }
   ],
   "source": [
    "y_pred = model.predict(X_test)\n",
    "accuracy = accuracy_score(y_test, y_pred)\n",
    "print(\"Accuracy: %.2f%%\" % (accuracy * 100.0))"
   ]
  },
  {
   "cell_type": "markdown",
   "id": "fbad8580",
   "metadata": {},
   "source": [
    "#### early_stopping_rounds"
   ]
  },
  {
   "cell_type": "code",
   "execution_count": 30,
   "id": "5f8d0626",
   "metadata": {},
   "outputs": [
    {
     "name": "stdout",
     "output_type": "stream",
     "text": [
      "[0]\tvalidation_0-error:0.15789\n",
      "[1]\tvalidation_0-error:0.10526\n",
      "[2]\tvalidation_0-error:0.11842\n"
     ]
    },
    {
     "name": "stderr",
     "output_type": "stream",
     "text": [
      "C:\\Users\\prove\\miniconda3\\envs\\ds\\lib\\site-packages\\xgboost\\sklearn.py:793: UserWarning: `eval_metric` in `fit` method is deprecated for better compatibility with scikit-learn, use `eval_metric` in constructor or`set_params` instead.\n",
      "  warnings.warn(\n",
      "C:\\Users\\prove\\miniconda3\\envs\\ds\\lib\\site-packages\\xgboost\\sklearn.py:793: UserWarning: `early_stopping_rounds` in `fit` method is deprecated for better compatibility with scikit-learn, use `early_stopping_rounds` in constructor or`set_params` instead.\n",
      "  warnings.warn(\n"
     ]
    },
    {
     "name": "stdout",
     "output_type": "stream",
     "text": [
      "[3]\tvalidation_0-error:0.13158\n",
      "[4]\tvalidation_0-error:0.11842\n",
      "[5]\tvalidation_0-error:0.14474\n",
      "[6]\tvalidation_0-error:0.14474\n",
      "[7]\tvalidation_0-error:0.14474\n",
      "[8]\tvalidation_0-error:0.14474\n",
      "[9]\tvalidation_0-error:0.14474\n",
      "[10]\tvalidation_0-error:0.14474\n",
      "[11]\tvalidation_0-error:0.15789\n",
      "Accuracy: 89.47%\n"
     ]
    }
   ],
   "source": [
    "model = XGBClassifier(booster='gbtree',\n",
    "                      objective='binary:logistic',\n",
    "                      random_state=2)\n",
    "\n",
    "eval_set = [(X_test, y_test)]\n",
    "\n",
    "eval_metric='error'\n",
    "\n",
    "model.fit(X_train,\n",
    "          y_train,\n",
    "          eval_metric=\"error\",\n",
    "          eval_set=eval_set,\n",
    "          early_stopping_rounds=10,\n",
    "          verbose=True)\n",
    "\n",
    "y_pred = model.predict(X_test)\n",
    "accuracy = accuracy_score(y_test, y_pred)\n",
    "print(\"Accuracy: %.2f%%\" % (accuracy * 100.0))"
   ]
  },
  {
   "cell_type": "code",
   "execution_count": 48,
   "id": "cfb5a6c2",
   "metadata": {},
   "outputs": [
    {
     "name": "stdout",
     "output_type": "stream",
     "text": [
      "[0]\tvalidation_0-error:0.15789\n",
      "[1]\tvalidation_0-error:0.13158\n",
      "[2]\tvalidation_0-error:0.13158\n",
      "[3]\tvalidation_0-error:0.13158\n",
      "[4]\tvalidation_0-error:0.13158\n",
      "[5]\tvalidation_0-error:0.13158\n",
      "[6]\tvalidation_0-error:0.13158\n",
      "[7]\tvalidation_0-error:0.10526\n",
      "[8]\tvalidation_0-error:0.10526\n",
      "[9]\tvalidation_0-error:0.10526\n",
      "[10]\tvalidation_0-error:0.10526\n",
      "[11]\tvalidation_0-error:0.10526\n",
      "[12]\tvalidation_0-error:0.10526\n",
      "[13]\tvalidation_0-error:0.10526\n",
      "[14]\tvalidation_0-error:0.10526\n",
      "[15]\tvalidation_0-error:0.11842\n",
      "[16]\tvalidation_0-error:0.10526\n",
      "[17]\tvalidation_0-error:0.10526\n",
      "[18]\tvalidation_0-error:0.11842\n",
      "[19]\tvalidation_0-error:0.10526\n",
      "[20]\tvalidation_0-error:0.11842\n",
      "[21]\tvalidation_0-error:0.11842\n",
      "[22]\tvalidation_0-error:0.11842\n",
      "[23]\tvalidation_0-error:0.11842\n",
      "[24]\tvalidation_0-error:0.11842\n",
      "[25]\tvalidation_0-error:0.11842\n",
      "[26]\tvalidation_0-error:0.11842\n",
      "[27]\tvalidation_0-error:0.09211\n",
      "[28]\tvalidation_0-error:0.09211\n",
      "[29]\tvalidation_0-error:0.09211\n",
      "[30]\tvalidation_0-error:0.09211\n",
      "[31]\tvalidation_0-error:0.09211\n",
      "[32]\tvalidation_0-error:0.09211\n",
      "[33]\tvalidation_0-error:0.09211\n",
      "[34]\tvalidation_0-error:0.09211\n",
      "[35]\tvalidation_0-error:0.09211\n",
      "[36]\tvalidation_0-error:0.09211\n",
      "[37]\tvalidation_0-error:0.09211\n",
      "[38]\tvalidation_0-error:0.09211\n",
      "[39]\tvalidation_0-error:0.09211\n",
      "[40]\tvalidation_0-error:0.09211\n",
      "[41]\tvalidation_0-error:0.09211\n",
      "[42]\tvalidation_0-error:0.09211\n",
      "[43]\tvalidation_0-error:0.09211\n",
      "[44]\tvalidation_0-error:0.09211\n",
      "[45]\tvalidation_0-error:0.09211\n",
      "[46]\tvalidation_0-error:0.07895\n",
      "[47]\tvalidation_0-error:0.09211\n",
      "[48]\tvalidation_0-error:0.07895\n",
      "[49]\tvalidation_0-error:0.07895\n",
      "[50]\tvalidation_0-error:0.07895\n",
      "[51]\tvalidation_0-error:0.07895\n",
      "[52]\tvalidation_0-error:0.09211\n",
      "[53]\tvalidation_0-error:0.07895\n",
      "[54]\tvalidation_0-error:0.07895\n",
      "[55]\tvalidation_0-error:0.07895\n",
      "[56]\tvalidation_0-error:0.07895\n",
      "[57]\tvalidation_0-error:0.10526\n",
      "[58]\tvalidation_0-error:0.07895\n",
      "[59]\tvalidation_0-error:0.07895\n",
      "[60]\tvalidation_0-error:0.07895\n",
      "[61]\tvalidation_0-error:0.09211\n",
      "[62]\tvalidation_0-error:0.09211\n",
      "[63]\tvalidation_0-error:0.09211\n",
      "[64]\tvalidation_0-error:0.09211\n",
      "[65]\tvalidation_0-error:0.09211\n",
      "[66]\tvalidation_0-error:0.09211\n",
      "[67]\tvalidation_0-error:0.09211\n",
      "[68]\tvalidation_0-error:0.09211\n",
      "[69]\tvalidation_0-error:0.09211\n",
      "[70]\tvalidation_0-error:0.09211\n",
      "[71]\tvalidation_0-error:0.09211\n",
      "[72]\tvalidation_0-error:0.09211\n",
      "[73]\tvalidation_0-error:0.09211\n",
      "[74]\tvalidation_0-error:0.09211\n",
      "[75]\tvalidation_0-error:0.09211\n",
      "[76]\tvalidation_0-error:0.09211\n",
      "[77]\tvalidation_0-error:0.09211\n",
      "[78]\tvalidation_0-error:0.09211\n",
      "[79]\tvalidation_0-error:0.09211\n",
      "[80]\tvalidation_0-error:0.09211\n",
      "[81]\tvalidation_0-error:0.09211\n",
      "[82]\tvalidation_0-error:0.09211\n",
      "[83]\tvalidation_0-error:0.09211\n",
      "[84]\tvalidation_0-error:0.09211\n",
      "[85]\tvalidation_0-error:0.09211\n",
      "[86]\tvalidation_0-error:0.09211\n",
      "[87]\tvalidation_0-error:0.09211\n",
      "[88]\tvalidation_0-error:0.09211\n",
      "[89]\tvalidation_0-error:0.09211\n",
      "[90]\tvalidation_0-error:0.09211\n",
      "[91]\tvalidation_0-error:0.09211\n",
      "[92]\tvalidation_0-error:0.09211\n",
      "[93]\tvalidation_0-error:0.09211\n",
      "[94]\tvalidation_0-error:0.09211\n",
      "[95]\tvalidation_0-error:0.09211\n",
      "[96]\tvalidation_0-error:0.09211\n",
      "[97]\tvalidation_0-error:0.09211\n",
      "[98]\tvalidation_0-error:0.09211\n",
      "[99]\tvalidation_0-error:0.10526\n",
      "[100]\tvalidation_0-error:0.10526\n",
      "[101]\tvalidation_0-error:0.09211\n",
      "[102]\tvalidation_0-error:0.09211\n",
      "[103]\tvalidation_0-error:0.09211\n",
      "[104]\tvalidation_0-error:0.09211\n",
      "[105]\tvalidation_0-error:0.10526\n",
      "[106]\tvalidation_0-error:0.10526\n",
      "[107]\tvalidation_0-error:0.10526\n",
      "[108]\tvalidation_0-error:0.09211\n",
      "[109]\tvalidation_0-error:0.10526\n",
      "[110]\tvalidation_0-error:0.10526\n",
      "[111]\tvalidation_0-error:0.10526\n",
      "[112]\tvalidation_0-error:0.10526\n",
      "[113]\tvalidation_0-error:0.10526\n",
      "[114]\tvalidation_0-error:0.10526\n",
      "[115]\tvalidation_0-error:0.10526\n",
      "[116]\tvalidation_0-error:0.10526\n",
      "[117]\tvalidation_0-error:0.10526\n",
      "[118]\tvalidation_0-error:0.10526\n",
      "[119]\tvalidation_0-error:0.10526\n",
      "[120]\tvalidation_0-error:0.10526\n",
      "[121]\tvalidation_0-error:0.10526\n",
      "[122]\tvalidation_0-error:0.10526\n",
      "[123]\tvalidation_0-error:0.10526\n",
      "[124]\tvalidation_0-error:0.10526\n",
      "[125]\tvalidation_0-error:0.10526\n",
      "[126]\tvalidation_0-error:0.10526\n",
      "[127]\tvalidation_0-error:0.10526\n",
      "[128]\tvalidation_0-error:0.10526\n",
      "[129]\tvalidation_0-error:0.10526\n",
      "[130]\tvalidation_0-error:0.10526\n",
      "[131]\tvalidation_0-error:0.10526\n",
      "[132]\tvalidation_0-error:0.10526\n",
      "[133]\tvalidation_0-error:0.10526\n",
      "[134]\tvalidation_0-error:0.10526\n",
      "[135]\tvalidation_0-error:0.10526\n",
      "[136]\tvalidation_0-error:0.10526\n",
      "[137]\tvalidation_0-error:0.10526\n",
      "[138]\tvalidation_0-error:0.10526\n",
      "[139]\tvalidation_0-error:0.10526\n",
      "[140]\tvalidation_0-error:0.10526\n",
      "[141]\tvalidation_0-error:0.10526\n",
      "[142]\tvalidation_0-error:0.10526\n",
      "[143]\tvalidation_0-error:0.10526\n",
      "[144]\tvalidation_0-error:0.10526\n",
      "[145]\tvalidation_0-error:0.10526\n",
      "Accuracy: 89.47%\n"
     ]
    },
    {
     "name": "stderr",
     "output_type": "stream",
     "text": [
      "C:\\Users\\prove\\miniconda3\\envs\\ds\\lib\\site-packages\\xgboost\\sklearn.py:793: UserWarning: `eval_metric` in `fit` method is deprecated for better compatibility with scikit-learn, use `eval_metric` in constructor or`set_params` instead.\n",
      "  warnings.warn(\n",
      "C:\\Users\\prove\\miniconda3\\envs\\ds\\lib\\site-packages\\xgboost\\sklearn.py:793: UserWarning: `early_stopping_rounds` in `fit` method is deprecated for better compatibility with scikit-learn, use `early_stopping_rounds` in constructor or`set_params` instead.\n",
      "  warnings.warn(\n"
     ]
    }
   ],
   "source": [
    "model = XGBClassifier(n_estimators=5000,\n",
    "                      booster='gblinear',\n",
    "                      objective='binary:logistic',\n",
    "                      random_state=2)\n",
    "\n",
    "eval_set = [(X_test, y_test)]\n",
    "\n",
    "eval_metric='error'\n",
    "\n",
    "model.fit(X_train,\n",
    "          y_train,\n",
    "          eval_metric=\"error\",\n",
    "          eval_set=eval_set,\n",
    "          early_stopping_rounds=100,\n",
    "          verbose=True)\n",
    "\n",
    "y_pred = model.predict(X_test)\n",
    "accuracy = accuracy_score(y_test, y_pred)\n",
    "print(\"Accuracy: %.2f%%\" % (accuracy * 100.0))"
   ]
  },
  {
   "cell_type": "code",
   "execution_count": 45,
   "id": "d45b51e7",
   "metadata": {},
   "outputs": [
    {
     "name": "stdout",
     "output_type": "stream",
     "text": [
      "Best params: {'booster': 'gbtree', 'colsample_bylevel': 0.6, 'colsample_bynode': 0.8, 'colsample_bytree': 0.7, 'max_depth': 1, 'n_estimators': 50}\n",
      "Training score: 0.8518\n"
     ]
    }
   ],
   "source": [
    "grid_search(params={\n",
    "    'booster': ['gbtree', 'gblinear', 'dart'],\n",
    "    'colsample_bynode':[0.5, 0.6, 0.7, 0.8, 0.9, 1],\n",
    "    'colsample_bylevel':[0.5, 0.6, 0.7, 0.8, 0.9, 1],\n",
    "    'colsample_bytree':[0.5, 0.6, 0.7, 0.8, 0.9, 1],\n",
    "    'max_depth':[1],\n",
    "    'n_estimators':[50]\n",
    "})"
   ]
  },
  {
   "cell_type": "code",
   "execution_count": 37,
   "id": "9c77f61c",
   "metadata": {},
   "outputs": [
    {
     "name": "stdout",
     "output_type": "stream",
     "text": [
      "Best params: {'colsample_bylevel': 0.9, 'colsample_bynode': 0.5, 'colsample_bytree': 0.8, 'gamma': 0, 'max_depth': 1, 'n_estimators': 50}\n",
      "Training score: 0.8386\n"
     ]
    }
   ],
   "source": [
    "grid_search(params={'gamma':[0, 0.01, 0.05, 0.1, 0.5,\n",
    "1, 2, 3], 'colsample_bylevel':[0.9],\n",
    "'colsample_bytree':[0.8], 'colsample_bynode':[0.5],\n",
    "'max_depth':[1], 'n_estimators':[2,50]})"
   ]
  },
  {
   "cell_type": "code",
   "execution_count": null,
   "id": "6f20d3b3",
   "metadata": {},
   "outputs": [],
   "source": []
  }
 ],
 "metadata": {
  "kernelspec": {
   "display_name": "Python 3 (ipykernel)",
   "language": "python",
   "name": "python3"
  },
  "language_info": {
   "codemirror_mode": {
    "name": "ipython",
    "version": 3
   },
   "file_extension": ".py",
   "mimetype": "text/x-python",
   "name": "python",
   "nbconvert_exporter": "python",
   "pygments_lexer": "ipython3",
   "version": "3.10.4"
  }
 },
 "nbformat": 4,
 "nbformat_minor": 5
}
