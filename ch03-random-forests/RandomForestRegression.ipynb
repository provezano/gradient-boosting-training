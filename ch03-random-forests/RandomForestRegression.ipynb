{
 "cells": [
  {
   "cell_type": "markdown",
   "id": "e01ba481",
   "metadata": {},
   "source": [
    "# Random Forest Regression"
   ]
  },
  {
   "cell_type": "markdown",
   "id": "a2d67bc1",
   "metadata": {},
   "source": [
    "## Libraries"
   ]
  },
  {
   "cell_type": "code",
   "execution_count": 14,
   "id": "18f5c269",
   "metadata": {},
   "outputs": [],
   "source": [
    "import numpy as np\n",
    "import pandas as pd\n",
    "\n",
    "from sklearn.model_selection import GridSearchCV\n",
    "from sklearn.model_selection import RandomizedSearchCV\n",
    "from sklearn.model_selection import train_test_split\n",
    "\n",
    "from sklearn.ensemble import RandomForestRegressor\n",
    "\n",
    "from sklearn.metrics import mean_squared_error\n",
    "from sklearn.model_selection import cross_val_score"
   ]
  },
  {
   "cell_type": "markdown",
   "id": "6b63e77a",
   "metadata": {},
   "source": [
    "## Data ingestion"
   ]
  },
  {
   "cell_type": "code",
   "execution_count": 2,
   "id": "c28ff47c",
   "metadata": {},
   "outputs": [
    {
     "name": "stderr",
     "output_type": "stream",
     "text": [
      "--2022-04-29 15:24:34--  https://archive.ics.uci.edu/ml/machine-learning-databases/00275/Bike-Sharing-Dataset.zip\n",
      "Resolving archive.ics.uci.edu (archive.ics.uci.edu)... 128.195.10.252\n",
      "Connecting to archive.ics.uci.edu (archive.ics.uci.edu)|128.195.10.252|:443... connected.\n",
      "HTTP request sent, awaiting response... 200 OK\n",
      "Length: 279992 (273K) [application/x-httpd-php]\n",
      "Saving to: 'bike-sharing-dataset/Bike-Sharing-Dataset.zip'\n",
      "\n",
      "     0K .......... .......... .......... .......... .......... 18% 69.9K 3s\n",
      "    50K .......... .......... .......... .......... .......... 36%  279K 2s\n",
      "   100K .......... .......... .......... .......... .......... 54% 6.58M 1s\n",
      "   150K .......... .......... .......... .......... .......... 73%  290K 0s\n",
      "   200K .......... .......... .......... .......... .......... 91% 5.34M 0s\n",
      "   250K .......... .......... ...                             100% 29.0M=1.1s\n",
      "\n",
      "2022-04-29 15:24:36 (252 KB/s) - 'bike-sharing-dataset/Bike-Sharing-Dataset.zip' saved [279992/279992]\n",
      "\n",
      "x Readme.txt\n",
      "x day.csv\n",
      "x hour.csv\n"
     ]
    }
   ],
   "source": [
    "!mkdir bike-sharing-dataset\n",
    "!wget -P bike-sharing-dataset https://archive.ics.uci.edu/ml/machine-learning-databases/00275/Bike-Sharing-Dataset.zip\n",
    "!tar -zxvf bike-sharing-dataset/Bike-Sharing-Dataset.zip -C bike-sharing-dataset/"
   ]
  },
  {
   "cell_type": "code",
   "execution_count": 36,
   "id": "83c88600",
   "metadata": {},
   "outputs": [],
   "source": [
    "df_raw = pd.read_csv('bike-sharing-dataset/day.csv')"
   ]
  },
  {
   "cell_type": "markdown",
   "id": "c8bde1fb",
   "metadata": {},
   "source": [
    "## Data cleaning"
   ]
  },
  {
   "cell_type": "code",
   "execution_count": 37,
   "id": "d94fe8ec",
   "metadata": {},
   "outputs": [],
   "source": [
    "df_raw = df_raw.drop(columns=['dteday'])"
   ]
  },
  {
   "cell_type": "code",
   "execution_count": 38,
   "id": "012fbe4d",
   "metadata": {},
   "outputs": [],
   "source": [
    "X = df_raw.iloc[:, :-1]\n",
    "y = df_raw.iloc[:, -1]"
   ]
  },
  {
   "cell_type": "markdown",
   "id": "fdb8ee24",
   "metadata": {},
   "source": [
    "## Modeling"
   ]
  },
  {
   "cell_type": "code",
   "execution_count": 10,
   "id": "e36107fd",
   "metadata": {},
   "outputs": [],
   "source": [
    "rf = RandomForestRegressor(n_estimators=10, random_state=2, n_jobs=-1)"
   ]
  },
  {
   "cell_type": "code",
   "execution_count": 11,
   "id": "6893f4b4",
   "metadata": {},
   "outputs": [],
   "source": [
    "scores = cross_val_score(rf, X, y, scoring='neg_mean_squared_error', cv=10)"
   ]
  },
  {
   "cell_type": "code",
   "execution_count": 12,
   "id": "66087f7a",
   "metadata": {},
   "outputs": [
    {
     "name": "stdout",
     "output_type": "stream",
     "text": [
      "RMSE: [136.59  186.361 126.808  97.801 107.66  127.78  184.832 191.071 247.867\n",
      " 304.205]\n",
      "RMSE mean: 171.097\n"
     ]
    }
   ],
   "source": [
    "rmse = np.sqrt(-scores)\n",
    "print('RMSE:', np.round(rmse, 3))\n",
    "print('RMSE mean:', np.round(rmse.mean(), 3))"
   ]
  },
  {
   "cell_type": "markdown",
   "id": "415b0f21",
   "metadata": {},
   "source": [
    "## Case"
   ]
  },
  {
   "cell_type": "code",
   "execution_count": 43,
   "id": "b939a92e",
   "metadata": {},
   "outputs": [],
   "source": [
    "X_train, X_test, y_train, y_test = train_test_split(X, y, random_state=2)"
   ]
  },
  {
   "cell_type": "code",
   "execution_count": 44,
   "id": "4008265f",
   "metadata": {},
   "outputs": [],
   "source": [
    "def randomized_search_reg(params, runs=16, reg=RandomForestRegressor(random_state=2, n_jobs=-1)):\n",
    "    rand_reg = RandomizedSearchCV(reg, params, n_iter=runs, scoring='neg_mean_squared_error', cv=10, n_jobs=-1, random_state=2)\n",
    "    rand_reg.fit(X_train, y_train)\n",
    "    best_model = rand_reg.best_estimator_\n",
    "    best_params = rand_reg.best_params_\n",
    "    print('Best Params:', best_params)\n",
    "    best_score = np.sqrt(-rand_reg.best_score_)\n",
    "    print('Training score: {:.2f}'.format(best_score))\n",
    "    y_pred = best_model.predict(X_test)\n",
    "    rmse_test = mean_squared_error(y_test, y_pred)**0.5\n",
    "    print('Test set score: {:.2f}'.format(rmse_test))"
   ]
  },
  {
   "cell_type": "code",
   "execution_count": 45,
   "id": "38fe4ff6",
   "metadata": {},
   "outputs": [
    {
     "name": "stdout",
     "output_type": "stream",
     "text": [
      "Best Params: {'min_weight_fraction_leaf': 0.0, 'min_samples_split': 0.03, 'min_samples_leaf': 6, 'min_impurity_decrease': 0.05, 'max_leaf_nodes': 25, 'max_features': 0.7, 'max_depth': None}\n",
      "Training score: 227.96\n",
      "Test set score: 266.33\n"
     ]
    }
   ],
   "source": [
    "randomized_search_reg(params=\n",
    "                      {'min_weight_fraction_leaf': [0.0, 0.0025, 0.005, 0.0075, 0.01, 0.05],\n",
    "                       'min_samples_split': [2, 0.01, 0.02, 0.03, 0.04, 0.06, 0.08, 0.1],\n",
    "                       'min_samples_leaf': [1,2,4,6,8,10,20,30],\n",
    "                       'min_impurity_decrease': [0.0, 0.01, 0.05, 0.10, 0.15, 0.2],\n",
    "                       'max_leaf_nodes': [10, 15, 20, 25, 30, 35, 40, 45, 50, None],\n",
    "                       'max_features': ['auto', 0.8, 0.7, 0.6, 0.5, 0.4],\n",
    "                       'max_depth':[None,2,4,6,8,10,20]}\n",
    "                     )"
   ]
  },
  {
   "cell_type": "code",
   "execution_count": 46,
   "id": "1ea8887e",
   "metadata": {},
   "outputs": [
    {
     "name": "stdout",
     "output_type": "stream",
     "text": [
      "Best Params: {'min_samples_leaf': 4, 'min_impurity_decrease': 0.1, 'max_features': 0.8, 'max_depth': 8}\n",
      "Training score: 162.49\n",
      "Test set score: 195.77\n"
     ]
    }
   ],
   "source": [
    "randomized_search_reg(params={'min_samples_leaf':\n",
    "[1,2,4,6,8,10,20,30],'min_impurity_decrease':[0.0,\n",
    "0.01, 0.05, 0.10, 0.15, 0.2],'max_features':['auto',\n",
    "0.8, 0.7, 0.6, 0.5, 0.4],'max_depth':\n",
    "[None,4,6,8,10,12,15,20]}, runs=20)"
   ]
  },
  {
   "cell_type": "code",
   "execution_count": 47,
   "id": "5582647d",
   "metadata": {},
   "outputs": [
    {
     "name": "stdout",
     "output_type": "stream",
     "text": [
      "Best Params: {'min_samples_leaf': 1, 'min_impurity_decrease': 0.05, 'max_features': 0.7, 'max_depth': 18}\n",
      "Training score: 153.35\n",
      "Test set score: 176.60\n"
     ]
    }
   ],
   "source": [
    "randomized_search_reg(params={'min_samples_leaf':\n",
    "[1,2,3,4,5,6], 'min_impurity_decrease':[0.0, 0.01,\n",
    "0.05, 0.08, 0.10, 0.12, 0.15], 'max_features':['auto',\n",
    "0.8, 0.7, 0.6, 0.5, 0.4],'max_depth':\n",
    "[None,8,10,12,14,16,18,20]})"
   ]
  },
  {
   "cell_type": "code",
   "execution_count": 48,
   "id": "3b0e8d01",
   "metadata": {},
   "outputs": [
    {
     "name": "stdout",
     "output_type": "stream",
     "text": [
      "Best Params: {'n_estimators': 100, 'min_samples_leaf': 2, 'min_impurity_decrease': 0.15, 'max_features': 0.8, 'max_depth': 12}\n",
      "Training score: 140.43\n",
      "Test set score: 171.65\n"
     ]
    }
   ],
   "source": [
    "randomized_search_reg(params={'min_samples_leaf':\n",
    "[1,2,4,6,8,10,20,30], 'min_impurity_decrease':[0.0,\n",
    "0.01, 0.05, 0.10, 0.15, 0.2], 'max_features':['auto',\n",
    "0.8, 0.7, 0.6, 0.5, 0.4],'max_depth':\n",
    "[None,4,6,8,10,12,15,20],'n_estimators':[100]},\n",
    "runs=30)"
   ]
  },
  {
   "cell_type": "code",
   "execution_count": 50,
   "id": "e4c7477f",
   "metadata": {},
   "outputs": [
    {
     "name": "stdout",
     "output_type": "stream",
     "text": [
      "RMSE: [117.451 148.425 111.988  88.424  87.747 151.587 211.674 157.06  292.634\n",
      " 369.519]\n",
      "RMSE mean: 173.651\n"
     ]
    }
   ],
   "source": [
    "rf = RandomForestRegressor(n_estimators=100, min_samples_leaf=2, min_impurity_decrease=0.15, max_features=0.8, max_depth=12, n_jobs=-1, random_state=2)\n",
    "scores = cross_val_score(rf, X, y, scoring='neg_mean_squared_error', cv=10)\n",
    "rmse = np.sqrt(-scores)\n",
    "\n",
    "print('RMSE:', np.round(rmse, 3))\n",
    "print('RMSE mean: %0.3f' % (rmse.mean()))"
   ]
  }
 ],
 "metadata": {
  "kernelspec": {
   "display_name": "Python 3 (ipykernel)",
   "language": "python",
   "name": "python3"
  },
  "language_info": {
   "codemirror_mode": {
    "name": "ipython",
    "version": 3
   },
   "file_extension": ".py",
   "mimetype": "text/x-python",
   "name": "python",
   "nbconvert_exporter": "python",
   "pygments_lexer": "ipython3",
   "version": "3.8.13"
  }
 },
 "nbformat": 4,
 "nbformat_minor": 5
}
