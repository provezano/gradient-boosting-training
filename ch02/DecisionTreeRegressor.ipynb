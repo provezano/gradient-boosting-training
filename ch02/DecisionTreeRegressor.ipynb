{
 "cells": [
  {
   "cell_type": "markdown",
   "id": "4f4917bb",
   "metadata": {},
   "source": [
    "## Libraries"
   ]
  },
  {
   "cell_type": "code",
   "execution_count": 32,
   "id": "b16618c1",
   "metadata": {},
   "outputs": [],
   "source": [
    "import numpy as np\n",
    "import pandas as pd\n",
    "\n",
    "from sklearn.model_selection import GridSearchCV\n",
    "from sklearn.model_selection import train_test_split\n",
    "\n",
    "from sklearn.tree import DecisionTreeRegressor\n",
    "\n",
    "from sklearn.metrics import mean_squared_error\n",
    "from sklearn.model_selection import cross_val_score"
   ]
  },
  {
   "cell_type": "markdown",
   "id": "410cf252",
   "metadata": {},
   "source": [
    "## Data Ingestion"
   ]
  },
  {
   "cell_type": "code",
   "execution_count": 10,
   "id": "e6a4430a",
   "metadata": {},
   "outputs": [
    {
     "name": "stderr",
     "output_type": "stream",
     "text": [
      "A subdirectory or file bike-sharing-dataset already exists.\n",
      "--2022-04-24 23:35:51--  https://archive.ics.uci.edu/ml/machine-learning-databases/00275/Bike-Sharing-Dataset.zip\n",
      "Resolving archive.ics.uci.edu (archive.ics.uci.edu)... 128.195.10.252\n",
      "Connecting to archive.ics.uci.edu (archive.ics.uci.edu)|128.195.10.252|:443... connected.\n",
      "HTTP request sent, awaiting response... 200 OK\n",
      "Length: 279992 (273K) [application/x-httpd-php]\n",
      "Saving to: 'bike-sharing-dataset/Bike-Sharing-Dataset.zip.1'\n",
      "\n",
      "     0K .......... .......... .......... .......... .......... 18%  125K 2s\n",
      "    50K .......... .......... .......... .......... .......... 36%  249K 1s\n",
      "   100K .......... .......... .......... .......... .......... 54% 12.4M 0s\n",
      "   150K .......... .......... .......... .......... .......... 73% 1.18M 0s\n",
      "   200K .......... .......... .......... .......... .......... 91%  312K 0s\n",
      "   250K .......... .......... ...                             100% 31.5M=0.8s\n",
      "\n",
      "2022-04-24 23:35:53 (339 KB/s) - 'bike-sharing-dataset/Bike-Sharing-Dataset.zip.1' saved [279992/279992]\n",
      "\n",
      "x Readme.txt\n",
      "x day.csv\n",
      "x hour.csv\n"
     ]
    }
   ],
   "source": [
    "!mkdir bike-sharing-dataset\n",
    "!wget -P bike-sharing-dataset https://archive.ics.uci.edu/ml/machine-learning-databases/00275/Bike-Sharing-Dataset.zip\n",
    "!tar -zxvf bike-sharing-dataset/Bike-Sharing-Dataset.zip -C bike-sharing-dataset/"
   ]
  },
  {
   "cell_type": "code",
   "execution_count": 11,
   "id": "82ec4be5",
   "metadata": {},
   "outputs": [],
   "source": [
    "df_raw = pd.read_csv('bike-sharing-dataset/day.csv')"
   ]
  },
  {
   "cell_type": "markdown",
   "id": "b2ea078f",
   "metadata": {},
   "source": [
    "## Data Cleaning"
   ]
  },
  {
   "cell_type": "code",
   "execution_count": 20,
   "id": "cb8f7305",
   "metadata": {},
   "outputs": [],
   "source": [
    "df_raw = df_raw.drop(columns=['dteday'])"
   ]
  },
  {
   "cell_type": "markdown",
   "id": "52de3eb7",
   "metadata": {},
   "source": [
    "## Modeling"
   ]
  },
  {
   "cell_type": "markdown",
   "id": "ee3ef4a9",
   "metadata": {},
   "source": [
    "### Split the dataset"
   ]
  },
  {
   "cell_type": "code",
   "execution_count": 21,
   "id": "4ecd2eb7",
   "metadata": {},
   "outputs": [],
   "source": [
    "X = df_raw.iloc[:, :-1]\n",
    "y = df_raw.iloc[:, -1]"
   ]
  },
  {
   "cell_type": "markdown",
   "id": "b723f397",
   "metadata": {},
   "source": [
    "### DecisionTreeRegressor"
   ]
  },
  {
   "cell_type": "code",
   "execution_count": 27,
   "id": "c3412f48",
   "metadata": {},
   "outputs": [
    {
     "name": "stdout",
     "output_type": "stream",
     "text": [
      "RMSE mean: 329.50\n"
     ]
    }
   ],
   "source": [
    "reg = DecisionTreeRegressor(random_state=2)\n",
    "scores = cross_val_score(reg, X, y, scoring='neg_mean_squared_error', cv=5)\n",
    "rmse = np.sqrt(-scores)\n",
    "print('RMSE mean: {:.2f}'.format(rmse.mean()))"
   ]
  },
  {
   "cell_type": "code",
   "execution_count": 39,
   "id": "923257b9",
   "metadata": {},
   "outputs": [
    {
     "data": {
      "text/plain": [
       "0.0"
      ]
     },
     "execution_count": 39,
     "metadata": {},
     "output_type": "execute_result"
    }
   ],
   "source": [
    "X_train, X_test, y_train, y_test = train_test_split(X, y, random_state=2)\n",
    "\n",
    "reg = DecisionTreeRegressor(random_state=2)\n",
    "reg.fit(X_train, y_train)\n",
    "y_pred = reg.predict(X_train)\n",
    "\n",
    "reg_mse = mean_squared_error(y_train, y_pred)\n",
    "reg_rmse = np.sqrt(reg_mse)\n",
    "reg_rmse"
   ]
  },
  {
   "cell_type": "code",
   "execution_count": 40,
   "id": "df296131",
   "metadata": {},
   "outputs": [
    {
     "data": {
      "text/plain": [
       "226.48173909186696"
      ]
     },
     "execution_count": 40,
     "metadata": {},
     "output_type": "execute_result"
    }
   ],
   "source": [
    "y_pred = grid_reg.predict(X_test)\n",
    "\n",
    "reg_mse = mean_squared_error(y_test, y_pred)\n",
    "reg_rmse = np.sqrt(reg_mse)\n",
    "reg_rmse"
   ]
  },
  {
   "cell_type": "markdown",
   "id": "a1085d67",
   "metadata": {},
   "source": [
    "## Hyperparameters"
   ]
  },
  {
   "cell_type": "code",
   "execution_count": 75,
   "id": "f291bfe4",
   "metadata": {},
   "outputs": [
    {
     "data": {
      "text/plain": [
       "55.73480339072197"
      ]
     },
     "execution_count": 75,
     "metadata": {},
     "output_type": "execute_result"
    }
   ],
   "source": [
    "params = {'max_depth': [None, 2, 3, 4, 5, 6, 8, 10, 20],\n",
    "          'min_samples_leaf': [1, 2, 4, 6, 8, 10, 20, 30]\n",
    "          \n",
    "          }\n",
    "\n",
    "reg = DecisionTreeRegressor(random_state=2)\n",
    "grid_reg = GridSearchCV(reg, params, scoring='neg_mean_squared_error', cv=5, n_jobs=-1)\n",
    "grid_reg.fit(X_train, y_train)\n",
    "y_pred = grid_reg.predict(X_train)\n",
    "\n",
    "reg_mse = mean_squared_error(y_train, y_pred)\n",
    "reg_rmse = np.sqrt(reg_mse)\n",
    "reg_rmse"
   ]
  },
  {
   "cell_type": "code",
   "execution_count": 73,
   "id": "a2dbe4a9",
   "metadata": {},
   "outputs": [
    {
     "name": "stdout",
     "output_type": "stream",
     "text": [
      "Validation score: 232.315\n"
     ]
    }
   ],
   "source": [
    "best_score = np.sqrt(-grid_reg.best_score_)\n",
    "print(\"Validation score: {:.3f}\".format(best_score))"
   ]
  },
  {
   "cell_type": "code",
   "execution_count": 74,
   "id": "11db3080",
   "metadata": {},
   "outputs": [
    {
     "data": {
      "text/plain": [
       "217.97289733096662"
      ]
     },
     "execution_count": 74,
     "metadata": {},
     "output_type": "execute_result"
    }
   ],
   "source": [
    "y_pred = grid_reg.predict(X_test)\n",
    "\n",
    "reg_mse = mean_squared_error(y_test, y_pred)\n",
    "reg_rmse = np.sqrt(reg_mse)\n",
    "reg_rmse"
   ]
  }
 ],
 "metadata": {
  "kernelspec": {
   "display_name": "Python 3 (ipykernel)",
   "language": "python",
   "name": "python3"
  },
  "language_info": {
   "codemirror_mode": {
    "name": "ipython",
    "version": 3
   },
   "file_extension": ".py",
   "mimetype": "text/x-python",
   "name": "python",
   "nbconvert_exporter": "python",
   "pygments_lexer": "ipython3",
   "version": "3.8.13"
  }
 },
 "nbformat": 4,
 "nbformat_minor": 5
}
