{
 "cells": [
  {
   "cell_type": "markdown",
   "id": "66866117",
   "metadata": {},
   "source": [
    "## Libraries"
   ]
  },
  {
   "cell_type": "code",
   "execution_count": 43,
   "id": "c06815e1",
   "metadata": {},
   "outputs": [],
   "source": [
    "import numpy as np\n",
    "import pandas as pd\n",
    "\n",
    "from sklearn.model_selection import train_test_split\n",
    "from sklearn.model_selection import RandomizedSearchCV, GridSearchCV\n",
    "\n",
    "from sklearn.tree import DecisionTreeRegressor\n",
    "from sklearn.ensemble import GradientBoostingRegressor\n",
    "\n",
    "from sklearn.metrics import mean_squared_error"
   ]
  },
  {
   "cell_type": "markdown",
   "id": "62c71957",
   "metadata": {},
   "source": [
    "## Data Ingestion"
   ]
  },
  {
   "cell_type": "code",
   "execution_count": 4,
   "id": "658c4bbc",
   "metadata": {},
   "outputs": [
    {
     "name": "stderr",
     "output_type": "stream",
     "text": [
      "--2022-05-01 20:02:01--  https://archive.ics.uci.edu/ml/machine-learning-databases/00275/Bike-Sharing-Dataset.zip\n",
      "Resolving archive.ics.uci.edu (archive.ics.uci.edu)... 128.195.10.252\n",
      "Connecting to archive.ics.uci.edu (archive.ics.uci.edu)|128.195.10.252|:443... connected.\n",
      "HTTP request sent, awaiting response... 200 OK\n",
      "Length: 279992 (273K) [application/x-httpd-php]\n",
      "Saving to: 'bike-sharing-dataset/Bike-Sharing-Dataset.zip'\n",
      "\n",
      "     0K .......... .......... .......... .......... .......... 18%  139K 2s\n",
      "    50K .......... .......... .......... .......... .......... 36%  133K 1s\n",
      "   100K .......... .......... .......... .......... .......... 54% 11.3M 1s\n",
      "   150K .......... .......... .......... .......... .......... 73%  280K 0s\n",
      "   200K .......... .......... .......... .......... .......... 91% 3.69M 0s\n",
      "   250K .......... .......... ...                             100% 29.4M=0.9s\n",
      "\n",
      "2022-05-01 20:02:04 (293 KB/s) - 'bike-sharing-dataset/Bike-Sharing-Dataset.zip' saved [279992/279992]\n",
      "\n",
      "x Readme.txt\n",
      "x day.csv\n",
      "x hour.csv\n"
     ]
    }
   ],
   "source": [
    "!mkdir bike-sharing-dataset\n",
    "!wget -P bike-sharing-dataset https://archive.ics.uci.edu/ml/machine-learning-databases/00275/Bike-Sharing-Dataset.zip\n",
    "!tar -zxvf bike-sharing-dataset/Bike-Sharing-Dataset.zip -C bike-sharing-dataset/"
   ]
  },
  {
   "cell_type": "code",
   "execution_count": 5,
   "id": "e5333f3f",
   "metadata": {},
   "outputs": [],
   "source": [
    "df_raw = pd.read_csv('bike-sharing-dataset/day.csv')"
   ]
  },
  {
   "cell_type": "markdown",
   "id": "dbf91992",
   "metadata": {},
   "source": [
    "## Data Cleaning"
   ]
  },
  {
   "cell_type": "code",
   "execution_count": 6,
   "id": "dc33b12c",
   "metadata": {},
   "outputs": [],
   "source": [
    "df_raw = df_raw.drop(columns=['dteday'])"
   ]
  },
  {
   "cell_type": "markdown",
   "id": "7745a4c3",
   "metadata": {},
   "source": [
    "## Train-test split"
   ]
  },
  {
   "cell_type": "code",
   "execution_count": 7,
   "id": "ccf2d042",
   "metadata": {},
   "outputs": [],
   "source": [
    "X = df_raw.iloc[:, :-1]\n",
    "y = df_raw.iloc[:, -1]"
   ]
  },
  {
   "cell_type": "code",
   "execution_count": 8,
   "id": "8ac66f04",
   "metadata": {},
   "outputs": [],
   "source": [
    "X_train, X_test, y_train, y_test = train_test_split(X, y, random_state=2)"
   ]
  },
  {
   "cell_type": "markdown",
   "id": "66832521",
   "metadata": {},
   "source": [
    "## Gradient Boosting Model from Scratch"
   ]
  },
  {
   "cell_type": "markdown",
   "id": "1826b308",
   "metadata": {},
   "source": [
    "### First tree"
   ]
  },
  {
   "cell_type": "code",
   "execution_count": 13,
   "id": "4f7ee737",
   "metadata": {},
   "outputs": [],
   "source": [
    "tree_1 = DecisionTreeRegressor(max_depth=2, random_state=2)\n",
    "tree_1.fit(X_train, y_train)\n",
    "y_train_pred = tree_1.predict(X_train)\n",
    "y2_train = y_train - y_train_pred"
   ]
  },
  {
   "cell_type": "markdown",
   "id": "3f734b33",
   "metadata": {},
   "source": [
    "### Second tree"
   ]
  },
  {
   "cell_type": "code",
   "execution_count": 14,
   "id": "c28dcd4b",
   "metadata": {},
   "outputs": [],
   "source": [
    "tree_2 = DecisionTreeRegressor(max_depth=2, random_state=2)\n",
    "tree_2.fit(X_train, y2_train)\n",
    "y2_train_pred = tree_2.predict(X_train)\n",
    "y3_train = y2_train - y2_train_pred"
   ]
  },
  {
   "cell_type": "markdown",
   "id": "4e548f3d",
   "metadata": {},
   "source": [
    "### Third tree"
   ]
  },
  {
   "cell_type": "code",
   "execution_count": 16,
   "id": "c1ecde00",
   "metadata": {},
   "outputs": [],
   "source": [
    "tree_3 = DecisionTreeRegressor(max_depth=2, random_state=2)\n",
    "tree_3.fit(X_train, y3_train);"
   ]
  },
  {
   "cell_type": "markdown",
   "id": "7234f205",
   "metadata": {},
   "source": [
    "### Results"
   ]
  },
  {
   "cell_type": "code",
   "execution_count": 17,
   "id": "1c3e7475",
   "metadata": {},
   "outputs": [],
   "source": [
    "y1_pred = tree_1.predict(X_test)\n",
    "y2_pred = tree_2.predict(X_test)\n",
    "y3_pred = tree_3.predict(X_test)"
   ]
  },
  {
   "cell_type": "code",
   "execution_count": 18,
   "id": "dd96d59e",
   "metadata": {},
   "outputs": [],
   "source": [
    "y_pred = y1_pred + y2_pred + y3_pred"
   ]
  },
  {
   "cell_type": "markdown",
   "id": "5704dff5",
   "metadata": {},
   "source": [
    "Tree 1"
   ]
  },
  {
   "cell_type": "code",
   "execution_count": 21,
   "id": "1034167d",
   "metadata": {},
   "outputs": [
    {
     "data": {
      "text/plain": [
       "914.615152637184"
      ]
     },
     "execution_count": 21,
     "metadata": {},
     "output_type": "execute_result"
    }
   ],
   "source": [
    "mean_squared_error(y_test, y1_pred)**0.5"
   ]
  },
  {
   "cell_type": "markdown",
   "id": "ceface55",
   "metadata": {},
   "source": [
    "Tree 2"
   ]
  },
  {
   "cell_type": "code",
   "execution_count": 22,
   "id": "4581d495",
   "metadata": {
    "scrolled": true
   },
   "outputs": [
    {
     "data": {
      "text/plain": [
       "4888.852579397962"
      ]
     },
     "execution_count": 22,
     "metadata": {},
     "output_type": "execute_result"
    }
   ],
   "source": [
    "mean_squared_error(y_test, y2_pred)**0.5"
   ]
  },
  {
   "cell_type": "markdown",
   "id": "2e03ba78",
   "metadata": {},
   "source": [
    "Tree 3"
   ]
  },
  {
   "cell_type": "code",
   "execution_count": 23,
   "id": "1014b96f",
   "metadata": {},
   "outputs": [
    {
     "data": {
      "text/plain": [
       "5077.739428116499"
      ]
     },
     "execution_count": 23,
     "metadata": {},
     "output_type": "execute_result"
    }
   ],
   "source": [
    "mean_squared_error(y_test, y3_pred)**0.5"
   ]
  },
  {
   "cell_type": "markdown",
   "id": "4d414554",
   "metadata": {},
   "source": [
    "Ensemble"
   ]
  },
  {
   "cell_type": "code",
   "execution_count": 20,
   "id": "dca160b9",
   "metadata": {},
   "outputs": [
    {
     "data": {
      "text/plain": [
       "505.62637078946926"
      ]
     },
     "execution_count": 20,
     "metadata": {},
     "output_type": "execute_result"
    }
   ],
   "source": [
    "mean_squared_error(y_test, y_pred)**0.5"
   ]
  },
  {
   "cell_type": "markdown",
   "id": "31631223",
   "metadata": {},
   "source": [
    "## GradientBoostingRegressor from sklearn"
   ]
  },
  {
   "cell_type": "markdown",
   "id": "93960b56",
   "metadata": {},
   "source": [
    "Reproducing the results above."
   ]
  },
  {
   "cell_type": "code",
   "execution_count": 26,
   "id": "90a9567a",
   "metadata": {},
   "outputs": [
    {
     "data": {
      "text/plain": [
       "505.62637078946875"
      ]
     },
     "execution_count": 26,
     "metadata": {},
     "output_type": "execute_result"
    }
   ],
   "source": [
    "gbr = GradientBoostingRegressor(max_depth=2, n_estimators=3, random_state=2, learning_rate=1.0)\n",
    "gbr.fit(X_train, y_train)\n",
    "y_pred = gbr.predict(X_test)\n",
    "mean_squared_error(y_test, y_pred)**0.5"
   ]
  },
  {
   "cell_type": "markdown",
   "id": "dec78911",
   "metadata": {},
   "source": [
    "Results with 30 estimators."
   ]
  },
  {
   "cell_type": "code",
   "execution_count": 27,
   "id": "94e6763d",
   "metadata": {},
   "outputs": [
    {
     "data": {
      "text/plain": [
       "219.62831847757047"
      ]
     },
     "execution_count": 27,
     "metadata": {},
     "output_type": "execute_result"
    }
   ],
   "source": [
    "gbr = GradientBoostingRegressor(max_depth=2, n_estimators=30, random_state=2, learning_rate=1.0)\n",
    "gbr.fit(X_train, y_train)\n",
    "y_pred = gbr.predict(X_test)\n",
    "mean_squared_error(y_test, y_pred)**0.5"
   ]
  },
  {
   "cell_type": "markdown",
   "id": "d3b6f65b",
   "metadata": {},
   "source": [
    "Results with 300 estimators."
   ]
  },
  {
   "cell_type": "code",
   "execution_count": 28,
   "id": "b8d6c075",
   "metadata": {},
   "outputs": [
    {
     "data": {
      "text/plain": [
       "192.6698160666761"
      ]
     },
     "execution_count": 28,
     "metadata": {},
     "output_type": "execute_result"
    }
   ],
   "source": [
    "gbr = GradientBoostingRegressor(max_depth=2, n_estimators=300, random_state=2, learning_rate=1.0)\n",
    "gbr.fit(X_train, y_train)\n",
    "y_pred = gbr.predict(X_test)\n",
    "mean_squared_error(y_test, y_pred)**0.5"
   ]
  },
  {
   "cell_type": "markdown",
   "id": "94e50caf",
   "metadata": {},
   "source": [
    "Results with 3000 estimators. (worse results)"
   ]
  },
  {
   "cell_type": "code",
   "execution_count": 29,
   "id": "88746b40",
   "metadata": {},
   "outputs": [
    {
     "data": {
      "text/plain": [
       "194.098879182156"
      ]
     },
     "execution_count": 29,
     "metadata": {},
     "output_type": "execute_result"
    }
   ],
   "source": [
    "gbr = GradientBoostingRegressor(max_depth=2, n_estimators=3000, random_state=2, learning_rate=1.0)\n",
    "gbr.fit(X_train, y_train)\n",
    "y_pred = gbr.predict(X_test)\n",
    "mean_squared_error(y_test, y_pred)**0.5"
   ]
  },
  {
   "cell_type": "markdown",
   "id": "f651113e",
   "metadata": {},
   "source": [
    "Results with 3000 estimators, but default learning_rate"
   ]
  },
  {
   "cell_type": "code",
   "execution_count": 30,
   "id": "b8244508",
   "metadata": {},
   "outputs": [
    {
     "data": {
      "text/plain": [
       "94.90085398362392"
      ]
     },
     "execution_count": 30,
     "metadata": {},
     "output_type": "execute_result"
    }
   ],
   "source": [
    "gbr = GradientBoostingRegressor(max_depth=2, n_estimators=3000, random_state=2)\n",
    "gbr.fit(X_train, y_train)\n",
    "y_pred = gbr.predict(X_test)\n",
    "mean_squared_error(y_test, y_pred)**0.5"
   ]
  },
  {
   "cell_type": "markdown",
   "id": "58fa4ee6",
   "metadata": {},
   "source": [
    "## Hyperparameters"
   ]
  },
  {
   "cell_type": "markdown",
   "id": "11d0d1a7",
   "metadata": {},
   "source": [
    "### learning_rate"
   ]
  },
  {
   "cell_type": "code",
   "execution_count": 36,
   "id": "e128d5e8",
   "metadata": {},
   "outputs": [
    {
     "name": "stdout",
     "output_type": "stream",
     "text": [
      "Learning rate: 0.100 RMSE: 109.430\n",
      "Learning rate: 0.200 RMSE: 97.276\n",
      "Learning rate: 0.300 RMSE: 130.219\n",
      "Learning rate: 0.400 RMSE: 128.424\n",
      "Learning rate: 0.500 RMSE: 167.942\n",
      "Learning rate: 0.600 RMSE: 156.558\n",
      "Learning rate: 0.700 RMSE: 134.542\n",
      "Learning rate: 0.800 RMSE: 120.627\n",
      "Learning rate: 0.900 RMSE: 139.483\n",
      "Learning rate: 1.000 RMSE: 192.670\n"
     ]
    }
   ],
   "source": [
    "learning_rate_values = np.arange(0.1, 1.1, 0.1)\n",
    "\n",
    "for lr in learning_rate_values:\n",
    "    gbr = GradientBoostingRegressor(max_depth=2, n_estimators=300, random_state=2, learning_rate=lr)\n",
    "    gbr.fit(X_train, y_train)\n",
    "    y_pred = gbr.predict(X_test)\n",
    "    rmse = mean_squared_error(y_test, y_pred)**0.5\n",
    "    print('Learning rate: {:.3f} RMSE: {:.3f}'.format(lr, rmse))"
   ]
  },
  {
   "cell_type": "markdown",
   "id": "3a2453f8",
   "metadata": {},
   "source": [
    "## max_depth"
   ]
  },
  {
   "cell_type": "code",
   "execution_count": 41,
   "id": "2f752b15",
   "metadata": {},
   "outputs": [
    {
     "name": "stdout",
     "output_type": "stream",
     "text": [
      "Max Depth: None , Score: 214.8307991962222\n",
      "Max Depth: 1 , Score: 139.31555126709327\n",
      "Max Depth: 2 , Score: 97.27603855685629\n",
      "Max Depth: 3 , Score: 138.31768577845503\n",
      "Max Depth: 4 , Score: 122.75612942520434\n"
     ]
    }
   ],
   "source": [
    "depths = [None, 1, 2, 3, 4]\n",
    "\n",
    "for depth in depths:\n",
    "    gbr = GradientBoostingRegressor(max_depth=depth, n_estimators=300, random_state=2, learning_rate=0.2)\n",
    "    gbr.fit(X_train, y_train)\n",
    "    y_pred = gbr.predict(X_test)\n",
    "    rmse = mean_squared_error(y_test, y_pred)**0.5\n",
    "    print('Max Depth:', depth, ', Score:', rmse)"
   ]
  },
  {
   "cell_type": "markdown",
   "id": "a28f29c2",
   "metadata": {},
   "source": [
    "### subsample"
   ]
  },
  {
   "cell_type": "code",
   "execution_count": 42,
   "id": "7fdec970",
   "metadata": {},
   "outputs": [
    {
     "name": "stdout",
     "output_type": "stream",
     "text": [
      "Subsample: 1 , Score: 97.27603855685629\n",
      "Subsample: 0.9 , Score: 114.66071038389832\n",
      "Subsample: 0.8 , Score: 116.8070546058355\n",
      "Subsample: 0.7 , Score: 109.25722905883788\n",
      "Subsample: 0.6 , Score: 122.2876603652623\n",
      "Subsample: 0.5 , Score: 115.80226843747677\n"
     ]
    }
   ],
   "source": [
    "samples = [1, 0.9, 0.8, 0.7, 0.6, 0.5]\n",
    "\n",
    "for sample in samples:\n",
    "    gbr = GradientBoostingRegressor(max_depth=2, n_estimators=300, subsample=sample, random_state=2, learning_rate=.2)\n",
    "    gbr.fit(X_train, y_train)\n",
    "    y_pred = gbr.predict(X_test)\n",
    "    rmse = mean_squared_error(y_test, y_pred)**0.5\n",
    "    print('Subsample:', sample, ', Score:', rmse)"
   ]
  },
  {
   "cell_type": "markdown",
   "id": "b440efae",
   "metadata": {},
   "source": [
    "## Tuning"
   ]
  },
  {
   "cell_type": "code",
   "execution_count": 72,
   "id": "1f9b6589",
   "metadata": {},
   "outputs": [],
   "source": [
    "gbr = GradientBoostingRegressor(max_depth=2, n_estimators=300, subsample=sample, random_state=2, learning_rate=.2)"
   ]
  },
  {
   "cell_type": "code",
   "execution_count": 73,
   "id": "9d9f1543",
   "metadata": {},
   "outputs": [],
   "source": [
    "params={'subsample':[0.65, 0.7, 0.75, 1],\n",
    "        'n_estimators':[30, 300, 500, 1000, 2000, 3000],\n",
    "        'learning_rate':[0.05, 0.075, 0.1, 0.2]}"
   ]
  },
  {
   "cell_type": "code",
   "execution_count": 74,
   "id": "5fd90677",
   "metadata": {},
   "outputs": [
    {
     "name": "stdout",
     "output_type": "stream",
     "text": [
      "CPU times: total: 2.8 s\n",
      "Wall time: 51.9 s\n"
     ]
    },
    {
     "data": {
      "text/plain": [
       "GridSearchCV(cv=5,\n",
       "             estimator=GradientBoostingRegressor(learning_rate=0.2, max_depth=2,\n",
       "                                                 n_estimators=300,\n",
       "                                                 random_state=2,\n",
       "                                                 subsample=0.5),\n",
       "             n_jobs=-1,\n",
       "             param_grid={'learning_rate': [0.05, 0.075, 0.1, 0.2],\n",
       "                         'n_estimators': [30, 300, 500, 1000, 2000, 3000],\n",
       "                         'subsample': [0.65, 0.7, 0.75, 1]},\n",
       "             scoring='neg_mean_squared_error')"
      ]
     },
     "execution_count": 74,
     "metadata": {},
     "output_type": "execute_result"
    }
   ],
   "source": [
    "%%time\n",
    "rand_reg = GridSearchCV(gbr, params, scoring='neg_mean_squared_error', cv=5, n_jobs=-1)\n",
    "rand_reg.fit(X_train, y_train)"
   ]
  },
  {
   "cell_type": "code",
   "execution_count": 75,
   "id": "a87279e7",
   "metadata": {},
   "outputs": [],
   "source": [
    "best_model = rand_reg.best_estimator_\n",
    "best_params = rand_reg.best_params_\n",
    "best_score = np.sqrt(-rand_reg.best_score_)"
   ]
  },
  {
   "cell_type": "code",
   "execution_count": 78,
   "id": "132dc3ef",
   "metadata": {},
   "outputs": [
    {
     "data": {
      "text/plain": [
       "GradientBoostingRegressor(learning_rate=0.05, max_depth=2, n_estimators=3000,\n",
       "                          random_state=2, subsample=0.7)"
      ]
     },
     "execution_count": 78,
     "metadata": {},
     "output_type": "execute_result"
    }
   ],
   "source": [
    "best_model"
   ]
  },
  {
   "cell_type": "code",
   "execution_count": 80,
   "id": "c42c10b1",
   "metadata": {},
   "outputs": [
    {
     "data": {
      "text/plain": [
       "{'learning_rate': 0.05, 'n_estimators': 3000, 'subsample': 0.7}"
      ]
     },
     "execution_count": 80,
     "metadata": {},
     "output_type": "execute_result"
    }
   ],
   "source": [
    "best_params"
   ]
  },
  {
   "cell_type": "code",
   "execution_count": 77,
   "id": "a5b3f8af",
   "metadata": {},
   "outputs": [
    {
     "name": "stdout",
     "output_type": "stream",
     "text": [
      "Training score: 94.426\n",
      "Test set score: 80.781\n"
     ]
    }
   ],
   "source": [
    "print(\"Training score: {:.3f}\".format(best_score))\n",
    "y_pred = best_model.predict(X_test)\n",
    "rmse_test = mean_squared_error(y_test, y_pred)**0.5\n",
    "print('Test set score: {:.3f}'.format(rmse_test))"
   ]
  },
  {
   "cell_type": "markdown",
   "id": "abec8c7a",
   "metadata": {},
   "source": [
    "## XGBoosting Regressor"
   ]
  },
  {
   "cell_type": "code",
   "execution_count": 79,
   "id": "657d48f5",
   "metadata": {},
   "outputs": [],
   "source": [
    "from xgboost import XGBRegressor"
   ]
  },
  {
   "cell_type": "code",
   "execution_count": null,
   "id": "6756ab83",
   "metadata": {},
   "outputs": [],
   "source": [
    "params={'subsample':[0.65, 0.7, 0.75, 1],\n",
    "        'n_estimators':[30, 300, 500, 1000, 2000, 3000],\n",
    "        'eta':[0.05, 0.075, 0.1, 0.2]}"
   ]
  },
  {
   "cell_type": "code",
   "execution_count": 86,
   "id": "e211b135",
   "metadata": {},
   "outputs": [
    {
     "name": "stdout",
     "output_type": "stream",
     "text": [
      "Test set score: 87.575\n"
     ]
    }
   ],
   "source": [
    "xg_reg = XGBRegressor(learning_rate=0.05, max_depth=2, n_estimators=3000,\n",
    "                          random_state=2, subsample=0.7)\n",
    "xg_reg.fit(X_train, y_train)\n",
    "y_pred = xg_reg.predict(X_test)\n",
    "rmse_test = mean_squared_error(y_test, y_pred)**0.5\n",
    "print('Test set score: {:.3f}'.format(rmse_test))"
   ]
  },
  {
   "cell_type": "code",
   "execution_count": 87,
   "id": "fe86a687",
   "metadata": {},
   "outputs": [
    {
     "name": "stdout",
     "output_type": "stream",
     "text": [
      "CPU times: total: 13 s\n",
      "Wall time: 35.4 s\n"
     ]
    },
    {
     "data": {
      "text/plain": [
       "GridSearchCV(cv=5,\n",
       "             estimator=XGBRegressor(base_score=0.5, booster='gbtree',\n",
       "                                    callbacks=None, colsample_bylevel=1,\n",
       "                                    colsample_bynode=1, colsample_bytree=1,\n",
       "                                    early_stopping_rounds=None,\n",
       "                                    enable_categorical=False, eval_metric=None,\n",
       "                                    gamma=0, gpu_id=-1, grow_policy='depthwise',\n",
       "                                    importance_type=None,\n",
       "                                    interaction_constraints='',\n",
       "                                    learning_rate=0.05, max_bin=256,\n",
       "                                    max_cat_to_one...\n",
       "                                    max_depth=2, max_leaves=0,\n",
       "                                    min_child_weight=1, missing=nan,\n",
       "                                    monotone_constraints='()',\n",
       "                                    n_estimators=3000, n_jobs=0,\n",
       "                                    num_parallel_tree=1, predictor='auto',\n",
       "                                    random_state=2, reg_alpha=0, reg_lambda=1, ...),\n",
       "             n_jobs=-1,\n",
       "             param_grid={'learning_rate': [0.05, 0.075, 0.1, 0.2],\n",
       "                         'n_estimators': [30, 300, 500, 1000, 2000, 3000],\n",
       "                         'subsample': [0.65, 0.7, 0.75, 1]},\n",
       "             scoring='neg_mean_squared_error')"
      ]
     },
     "execution_count": 87,
     "metadata": {},
     "output_type": "execute_result"
    }
   ],
   "source": [
    "%%time\n",
    "rand_reg = GridSearchCV(xg_reg, params, scoring='neg_mean_squared_error', cv=5, n_jobs=-1)\n",
    "rand_reg.fit(X_train, y_train)"
   ]
  },
  {
   "cell_type": "code",
   "execution_count": 88,
   "id": "8ed0e360",
   "metadata": {},
   "outputs": [],
   "source": [
    "best_model = rand_reg.best_estimator_\n",
    "best_params = rand_reg.best_params_\n",
    "best_score = np.sqrt(-rand_reg.best_score_)"
   ]
  },
  {
   "cell_type": "code",
   "execution_count": 89,
   "id": "0330e486",
   "metadata": {},
   "outputs": [
    {
     "data": {
      "text/plain": [
       "XGBRegressor(base_score=0.5, booster='gbtree', callbacks=None,\n",
       "             colsample_bylevel=1, colsample_bynode=1, colsample_bytree=1,\n",
       "             early_stopping_rounds=None, enable_categorical=False,\n",
       "             eval_metric=None, gamma=0, gpu_id=-1, grow_policy='depthwise',\n",
       "             importance_type=None, interaction_constraints='',\n",
       "             learning_rate=0.05, max_bin=256, max_cat_to_onehot=4,\n",
       "             max_delta_step=0, max_depth=2, max_leaves=0, min_child_weight=1,\n",
       "             missing=nan, monotone_constraints='()', n_estimators=3000,\n",
       "             n_jobs=0, num_parallel_tree=1, predictor='auto', random_state=2,\n",
       "             reg_alpha=0, reg_lambda=1, ...)"
      ]
     },
     "execution_count": 89,
     "metadata": {},
     "output_type": "execute_result"
    }
   ],
   "source": [
    "best_model"
   ]
  },
  {
   "cell_type": "code",
   "execution_count": 91,
   "id": "57d98059",
   "metadata": {},
   "outputs": [
    {
     "data": {
      "text/plain": [
       "{'learning_rate': 0.05, 'n_estimators': 3000, 'subsample': 0.7}"
      ]
     },
     "execution_count": 91,
     "metadata": {},
     "output_type": "execute_result"
    }
   ],
   "source": [
    "best_params"
   ]
  },
  {
   "cell_type": "code",
   "execution_count": 90,
   "id": "1fcfff71",
   "metadata": {},
   "outputs": [
    {
     "name": "stdout",
     "output_type": "stream",
     "text": [
      "Training score: 96.755\n",
      "Test set score: 87.575\n"
     ]
    }
   ],
   "source": [
    "print(\"Training score: {:.3f}\".format(best_score))\n",
    "y_pred = best_model.predict(X_test)\n",
    "rmse_test = mean_squared_error(y_test, y_pred)**0.5\n",
    "print('Test set score: {:.3f}'.format(rmse_test))"
   ]
  }
 ],
 "metadata": {
  "kernelspec": {
   "display_name": "Python 3 (ipykernel)",
   "language": "python",
   "name": "python3"
  },
  "language_info": {
   "codemirror_mode": {
    "name": "ipython",
    "version": 3
   },
   "file_extension": ".py",
   "mimetype": "text/x-python",
   "name": "python",
   "nbconvert_exporter": "python",
   "pygments_lexer": "ipython3",
   "version": "3.8.13"
  }
 },
 "nbformat": 4,
 "nbformat_minor": 5
}
